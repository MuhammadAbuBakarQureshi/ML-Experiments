{
 "cells": [
  {
   "cell_type": "markdown",
   "metadata": {},
   "source": [
    "* `Agent` is the car (or, more correctly, the self-driving software running on the car).\n",
    "\n",
    "* `Environment` is the roads and surrounds on which the car is driving.\n",
    "\n",
    "* `Actions` are things such as steering angle and speed.\n",
    "\n",
    "* `Rewards` are issued by the reinforcement learning model based upon how successfully the car stays on the road and drives to the destination."
   ]
  }
 ],
 "metadata": {
  "language_info": {
   "name": "python"
  }
 },
 "nbformat": 4,
 "nbformat_minor": 2
}
