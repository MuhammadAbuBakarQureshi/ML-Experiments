{
 "cells": [
  {
   "cell_type": "markdown",
   "metadata": {},
   "source": [
    "* `Agent` is the traffic light control system.\n",
    "\n",
    "* `Environment` is the road network.\n",
    "\n",
    "* `Actions` are changing the traffic light signals (red-yellow-green).\n",
    "\n",
    "* `Rewards` are issued by the reinforcement learning model based upon traffic flow and throughput in the road network."
   ]
  }
 ],
 "metadata": {
  "language_info": {
   "name": "python"
  }
 },
 "nbformat": 4,
 "nbformat_minor": 2
}
