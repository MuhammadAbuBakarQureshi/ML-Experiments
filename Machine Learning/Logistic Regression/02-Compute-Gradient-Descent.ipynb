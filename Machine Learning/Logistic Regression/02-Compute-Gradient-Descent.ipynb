{
 "cells": [
  {
   "cell_type": "code",
   "execution_count": 1,
   "metadata": {},
   "outputs": [],
   "source": [
    "import numpy as np\n",
    "import matplotlib.pyplot as plt"
   ]
  },
  {
   "cell_type": "code",
   "execution_count": 2,
   "metadata": {},
   "outputs": [
    {
     "data": {
      "text/plain": [
       "(12, 12)"
      ]
     },
     "execution_count": 2,
     "metadata": {},
     "output_type": "execute_result"
    }
   ],
   "source": [
    "# Create Data set\n",
    "\n",
    "X = np.array([10, 2, 18, 24, 11, 32, 54, 35, 67, 4, 16, 17])\n",
    "y = np.array([0, 0, 1, 1, 0, 1, 1, 1, 1, 0, 0, 0])\n",
    "\n",
    "len(X), len(y)"
   ]
  },
  {
   "cell_type": "code",
   "execution_count": 3,
   "metadata": {},
   "outputs": [
    {
     "data": {
      "text/plain": [
       "<matplotlib.collections.PathCollection at 0x1c3cefd1340>"
      ]
     },
     "execution_count": 3,
     "metadata": {},
     "output_type": "execute_result"
    },
    {
     "data": {
      "image/png": "[encoded data removed]",
      "text/plain": [
       "<Figure size 1500x500 with 1 Axes>"
      ]
     },
     "metadata": {},
     "output_type": "display_data"
    }
   ],
   "source": [
    "# plot data set\n",
    "\n",
    "plt.figure(figsize = (15, 5))\n",
    "plt.scatter(X, y, marker = 'x', c = 'red')"
   ]
  },
  {
   "cell_type": "code",
   "execution_count": 4,
   "metadata": {},
   "outputs": [],
   "source": [
    "def compute_z(X, w, b):\n",
    "\n",
    "    return w * X + b"
   ]
  },
  {
   "cell_type": "code",
   "execution_count": 5,
   "metadata": {},
   "outputs": [],
   "source": [
    "def compute_model(X, w, b):\n",
    "\n",
    "    z = compute_z(X, w, b)\n",
    "\n",
    "    exp = np.exp(-z)\n",
    "\n",
    "    g_z = 1 / ( 1 + exp)\n",
    "\n",
    "    return g_z"
   ]
  },
  {
   "cell_type": "code",
   "execution_count": 6,
   "metadata": {},
   "outputs": [],
   "source": [
    "def compute_cost(X, y, w, b):\n",
    "    \n",
    "    g_z = compute_model(X, w, b)\n",
    "\n",
    "    cost = ( -y * (np.log(g_z))) - ( ( 1 - y) * np.log(1 - g_z) )\n",
    "\n",
    "    cost = np.sum(cost) / len(X)\n",
    "\n",
    "    return cost"
   ]
  },
  {
   "cell_type": "code",
   "execution_count": 7,
   "metadata": {},
   "outputs": [],
   "source": [
    "def compute_gradient_descent_derivative(X, y, w, b):\n",
    "\n",
    "    m = len(X)\n",
    "\n",
    "    g_z = compute_model(X, w, b)\n",
    "\n",
    "    dw = ( g_z - y ) * X\n",
    "    dw = np.sum(dw) / m\n",
    "\n",
    "    db = ( g_z - y)\n",
    "    db = np.sum(db) / m\n",
    "\n",
    "    return dw, db"
   ]
  },
  {
   "cell_type": "code",
   "execution_count": 8,
   "metadata": {},
   "outputs": [],
   "source": [
    "def compute_graient_descnet(X, y, w, b, alpha):\n",
    "\n",
    "    dw, db = compute_gradient_descent_derivative(X, y, w, b)\n",
    "\n",
    "    w -= ( alpha * dw )\n",
    "\n",
    "    b -= ( alpha * db )\n",
    "\n",
    "    return w, b"
   ]
  },
  {
   "cell_type": "code",
   "execution_count": 9,
   "metadata": {},
   "outputs": [],
   "source": [
    "def train_model(X, y, w, b, alpha, epochs):\n",
    "\n",
    "    for i in range(epochs):\n",
    "\n",
    "        w, b = compute_graient_descnet(X, y, w, b, alpha)\n",
    "        cost = compute_cost(X, y, w, b)\n",
    "\n",
    "        print(\"---Cost = \", cost, \"  ---w = \", w, \" ---b = \", b, \" ---Remaining = \", epochs - i - 1 )\n",
    "\n",
    "    y_pred = compute_model(X, w, b)\n",
    "\n",
    "    return y_pred, w, b\n"
   ]
  },
  {
   "cell_type": "code",
   "execution_count": 12,
   "metadata": {},
   "outputs": [
    {
     "name": "stdout",
     "output_type": "stream",
     "text": [
      "---Cost =  0.6488659928608627   ---w =  0.007083333333333333  ---b =  0.0  ---Remaining =  9\n",
      "---Cost =  0.6226818896309532   ---w =  0.01251249948184285  ---b =  -4.2452358844151685e-05  ---Remaining =  8\n",
      "---Cost =  0.6066403034146788   ---w =  0.016742268516801703  ---b =  -0.00011621274898729632  ---Remaining =  7\n",
      "---Cost =  0.596403031334972   ---w =  0.020105803246562644  ---b =  -0.00021312605605020382  ---Remaining =  6\n",
      "---Cost =  0.5896257122760504   ---w =  0.022831166531810942  ---b =  -0.0003275166946700653  ---Remaining =  5\n",
      "---Cost =  0.584998994406652   ---w =  0.025074393886414  ---b =  -0.00045541382283891495  ---Remaining =  4\n",
      "---Cost =  0.5817594701093572   ---w =  0.026944572870896067  ---b =  -0.0005939750157258126  ---Remaining =  3\n",
      "---Cost =  0.579443138052327   ---w =  0.02852005135932444  ---b =  -0.0007411113067397512  ---Remaining =  2\n",
      "---Cost =  0.5777573839017002   ---w =  0.029858601347877815  ---b =  -0.0008952486826605189  ---Remaining =  1\n",
      "---Cost =  0.5765117355432843   ---w =  0.031003850431192054  ---b =  -0.0010551745698872345  ---Remaining =  0\n"
     ]
    }
   ],
   "source": [
    "w = 0\n",
    "b = 0\n",
    "alpha = 0.001\n",
    "epoch = 10\n",
    "\n",
    "y_pred, w , b = train_model(X, y, w, b, alpha, epoch)"
   ]
  },
  {
   "cell_type": "code",
   "execution_count": null,
   "metadata": {},
   "outputs": [
    {
     "data": {
      "text/plain": [
       "array([0.2476558 , 0.09176058, 0.51749713, 0.72229926, 0.27617645,\n",
       "       0.894454  , 0.99543739, 0.92956365, 0.99932807, 0.11951485,\n",
       "       0.44391805, 0.48060242])"
      ]
     },
     "execution_count": 150,
     "metadata": {},
     "output_type": "execute_result"
    }
   ],
   "source": [
    "y_pred"
   ]
  },
  {
   "cell_type": "code",
   "execution_count": null,
   "metadata": {},
   "outputs": [],
   "source": [
    "# set threshold\n",
    "\n",
    "def compute_threshold(y_pred = y_pred):\n",
    "\n",
    "    threshold = 0.5\n",
    "\n",
    "    for i in range (len(y_pred)):\n",
    "\n",
    "        if (y_pred[i] >= 0.5):\n",
    "\n",
    "            y_pred[i] = 1\n",
    "\n",
    "        else:\n",
    "\n",
    "            y_pred[i] = 0\n",
    "\n",
    "    return y_pred"
   ]
  },
  {
   "cell_type": "code",
   "execution_count": null,
   "metadata": {},
   "outputs": [
    {
     "data": {
      "text/plain": [
       "array([0., 0., 1., 1., 0., 1., 1., 1., 1., 0., 0., 0.])"
      ]
     },
     "execution_count": 152,
     "metadata": {},
     "output_type": "execute_result"
    }
   ],
   "source": [
    "y_pred = compute_threshold(y_pred)\n",
    "y_pred"
   ]
  },
  {
   "cell_type": "code",
   "execution_count": null,
   "metadata": {},
   "outputs": [
    {
     "name": "stderr",
     "output_type": "stream",
     "text": [
      "C:\\Users\\Muhammad Abu Bakar\\AppData\\Local\\Temp\\ipykernel_45428\\3350569320.py:6: UserWarning: No artists with labels found to put in legend.  Note that artists whose label start with an underscore are ignored when legend() is called with no argument.\n",
      "  plt.legend()\n"
     ]
    },
    {
     "data": {
      "text/plain": [
       "<matplotlib.legend.Legend at 0x225be6f89b0>"
      ]
     },
     "execution_count": 153,
     "metadata": {},
     "output_type": "execute_result"
    },
    {
     "data": {
      "image/png": "[encoded data removed]",
      "text/plain": [
       "<Figure size 1500x500 with 1 Axes>"
      ]
     },
     "metadata": {},
     "output_type": "display_data"
    }
   ],
   "source": [
    "# Plot Predictions\n",
    "\n",
    "plt.figure(figsize = (15, 5))\n",
    "plt.scatter(X, y, marker = 'o', c = 'black')\n",
    "plt.scatter(X, y_pred, marker = 'x', c = 'red')\n",
    "plt.legend()"
   ]
  },
  {
   "cell_type": "code",
   "execution_count": null,
   "metadata": {},
   "outputs": [
    {
     "data": {
      "text/plain": [
       "(0.1476463959397514, -2.5876180209884523)"
      ]
     },
     "execution_count": 154,
     "metadata": {},
     "output_type": "execute_result"
    }
   ],
   "source": [
    "w, b"
   ]
  },
  {
   "cell_type": "code",
   "execution_count": null,
   "metadata": {},
   "outputs": [
    {
     "data": {
      "text/plain": [
       "False"
      ]
     },
     "execution_count": 158,
     "metadata": {},
     "output_type": "execute_result"
    }
   ],
   "source": [
    "my_age = 1\n",
    "\n",
    "compute_model(my_age, w, b) >= 0.5\n",
    "\n",
    "# compute_threshold(compute_model(my_age, w, b))"
   ]
  },
  {
   "cell_type": "code",
   "execution_count": 14,
   "metadata": {},
   "outputs": [
    {
     "data": {
      "text/plain": [
       "array([0.1572942 , 0.03489612, 0.49071607, 0.76743428, 0.186437  ,\n",
       "       0.94455069, 0.99935717, 0.9692535 , 0.99995533, 0.05168496,\n",
       "       0.38996009, 0.43971717])"
      ]
     },
     "execution_count": 14,
     "metadata": {},
     "output_type": "execute_result"
    }
   ],
   "source": [
    "y_pred = compute_model(X ,0.20517, -3.7302)\n",
    "y_pred"
   ]
  },
  {
   "cell_type": "code",
   "execution_count": 17,
   "metadata": {},
   "outputs": [
    {
     "data": {
      "text/plain": [
       "(array([False, False, False,  True, False,  True,  True,  True,  True,\n",
       "        False, False, False]),\n",
       " array([0, 0, 1, 1, 0, 1, 1, 1, 1, 0, 0, 0]))"
      ]
     },
     "execution_count": 17,
     "metadata": {},
     "output_type": "execute_result"
    }
   ],
   "source": [
    "y_pred >= 0.5, y"
   ]
  }
 ],
 "metadata": {
  "kernelspec": {
   "display_name": "Python 3",
   "language": "python",
   "name": "python3"
  },
  "language_info": {
   "codemirror_mode": {
    "name": "ipython",
    "version": 3
   },
   "file_extension": ".py",
   "mimetype": "text/x-python",
   "name": "python",
   "nbconvert_exporter": "python",
   "pygments_lexer": "ipython3",
   "version": "3.12.4"
  }
 },
 "nbformat": 4,
 "nbformat_minor": 2
}
