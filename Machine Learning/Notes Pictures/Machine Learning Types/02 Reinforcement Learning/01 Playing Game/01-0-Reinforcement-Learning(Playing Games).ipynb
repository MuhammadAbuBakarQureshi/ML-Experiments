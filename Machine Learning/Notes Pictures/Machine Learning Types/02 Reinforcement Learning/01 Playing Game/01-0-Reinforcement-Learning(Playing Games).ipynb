{
 "cells": [
  {
   "cell_type": "markdown",
   "metadata": {},
   "source": [
    "\n",
    "* `Agent` is the paddle.\n",
    "\n",
    "* `Environment` is the game scenes with the bricks and boundaries.\n",
    "\n",
    "* `Actions` are the movement of the paddle.\n",
    "\n",
    "* `Rewards` are issued by the reinforcement learning model based upon the number of bricks hit with the ball."
   ]
  }
 ],
 "metadata": {
  "language_info": {
   "name": "python"
  }
 },
 "nbformat": 4,
 "nbformat_minor": 2
}
