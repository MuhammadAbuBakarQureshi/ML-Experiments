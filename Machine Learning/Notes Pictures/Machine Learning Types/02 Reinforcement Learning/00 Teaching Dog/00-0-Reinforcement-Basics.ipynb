{
 "cells": [
  {
   "cell_type": "markdown",
   "metadata": {},
   "source": [
    "# Reinforcement Summary\n",
    "\n",
    "\n",
    "* `Agent` is the entity being trained. In our example, this is a dog.\n",
    "\n",
    "* `Environment` is the “world” in which the agent interacts, such as a park.\n",
    "\n",
    "* `Actions` are performed by the agent in the environment, such as running around, sitting, or playing ball.\n",
    "\n",
    "* `Rewards` are issued to the agent for performing good actions."
   ]
  }
 ],
 "metadata": {
  "language_info": {
   "name": "python"
  }
 },
 "nbformat": 4,
 "nbformat_minor": 2
}
