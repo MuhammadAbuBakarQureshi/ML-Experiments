{
 "cells": [
  {
   "cell_type": "code",
   "execution_count": 263,
   "metadata": {},
   "outputs": [],
   "source": [
    "import tensorflow as tf\n",
    "import numpy as np\n",
    "import pandas as pd\n",
    "import matplotlib.pyplot as plt"
   ]
  },
  {
   "cell_type": "code",
   "execution_count": 278,
   "metadata": {},
   "outputs": [],
   "source": [
    "def compute_model(x, w, b):\n",
    "    \n",
    "    m = len(x)\n",
    "\n",
    "    fwb = np.zeros(m)\n",
    "\n",
    "    for i in range(m):\n",
    "\n",
    "        fwb[i] = w * x[i] + b\n",
    "\n",
    "    return fwb"
   ]
  },
  {
   "cell_type": "code",
   "execution_count": 267,
   "metadata": {},
   "outputs": [],
   "source": [
    "def compute_cost(x, y, w, b):\n",
    "\n",
    "    m = len(x)\n",
    "\n",
    "    cost_sum = 0\n",
    "\n",
    "    for i in range(m):\n",
    "\n",
    "        fwb = w * x[i] + b\n",
    "        cost = fwb ** 2\n",
    "        cost_sum += cost\n",
    "\n",
    "    total_cost = (1 / (2 * m)) * cost_sum\n",
    "\n",
    "    return total_cost"
   ]
  },
  {
   "cell_type": "code",
   "execution_count": 270,
   "metadata": {},
   "outputs": [],
   "source": [
    "def compute_gradient(x, y, w, b):\n",
    "\n",
    "    m = len(x)\n",
    "\n",
    "    dw = 0\n",
    "    db = 0\n",
    "\n",
    "    for i in range(m):\n",
    "\n",
    "        fwb = w * x[i] + b\n",
    "        dw_i = ( fwb - y[i] ) * x[i]\n",
    "        db_i = fwb - y[i]\n",
    "        dw += dw_i\n",
    "        db += db_i\n",
    "\n",
    "    dw /= m\n",
    "    db /= m\n",
    "\n",
    "    return dw, db"
   ]
  },
  {
   "cell_type": "code",
   "execution_count": 313,
   "metadata": {},
   "outputs": [],
   "source": [
    "def compute_gradient_descent(x, y, w, b, num_iters, alpha):\n",
    "    \n",
    "    for i in range(num_iters):\n",
    "\n",
    "        dw, db = compute_gradient(x = x, y = y, w = w, b = b)\n",
    "\n",
    "        w = w - ( alpha * dw)\n",
    "        b = b - ( alpha * db)\n",
    "\n",
    "    return w, b"
   ]
  },
  {
   "cell_type": "code",
   "execution_count": 420,
   "metadata": {},
   "outputs": [],
   "source": [
    "def plot_train_pred(x_train, y_train, y_pred):\n",
    "\n",
    "    plt.scatter(x_train, y_train, marker = 'x', c = 'red', label = \"Training Data\")\n",
    "    plt.plot(x_train, y_pred, c = 'blue', label = 'Predictions')\n",
    "    plt.legend()"
   ]
  },
  {
   "cell_type": "code",
   "execution_count": 439,
   "metadata": {},
   "outputs": [],
   "source": [
    "x_train = np.arange(0, 20, 5)\n",
    "y_train = np.arange(5, 25, 5)"
   ]
  },
  {
   "cell_type": "code",
   "execution_count": 440,
   "metadata": {},
   "outputs": [],
   "source": [
    "# Find weight and bias\n",
    "\n",
    "w = 0\n",
    "b = 0\n",
    "\n",
    "w, b = compute_gradient_descent(x = x_train, y = y_train, w = w, b = b, num_iters = 100000, alpha = 0.01)"
   ]
  },
  {
   "cell_type": "code",
   "execution_count": 441,
   "metadata": {},
   "outputs": [
    {
     "data": {
      "text/plain": [
       "(1.0000000000000107, 4.999999999999876)"
      ]
     },
     "execution_count": 441,
     "metadata": {},
     "output_type": "execute_result"
    }
   ],
   "source": [
    "w, b"
   ]
  },
  {
   "cell_type": "code",
   "execution_count": 452,
   "metadata": {},
   "outputs": [],
   "source": [
    "# Now make predictions\n",
    "\n",
    "\n",
    "y_pred = compute_model(x = x_train, w = w, b = b)"
   ]
  },
  {
   "cell_type": "code",
   "execution_count": 453,
   "metadata": {},
   "outputs": [
    {
     "data": {
      "text/plain": [
       "array([ 5., 10., 15., 20.])"
      ]
     },
     "execution_count": 453,
     "metadata": {},
     "output_type": "execute_result"
    }
   ],
   "source": [
    "y_pred"
   ]
  },
  {
   "cell_type": "code",
   "execution_count": 454,
   "metadata": {},
   "outputs": [
    {
     "data": {
      "image/png": "[encoded data removed]",
      "text/plain": [
       "<Figure size 640x480 with 1 Axes>"
      ]
     },
     "metadata": {},
     "output_type": "display_data"
    }
   ],
   "source": [
    "plot_train_pred(x_train = x_train, y_train = y_train, y_pred = y_pred)"
   ]
  }
 ],
 "metadata": {
  "kernelspec": {
   "display_name": "Python 3",
   "language": "python",
   "name": "python3"
  },
  "language_info": {
   "codemirror_mode": {
    "name": "ipython",
    "version": 3
   },
   "file_extension": ".py",
   "mimetype": "text/x-python",
   "name": "python",
   "nbconvert_exporter": "python",
   "pygments_lexer": "ipython3",
   "version": "3.12.4"
  }
 },
 "nbformat": 4,
 "nbformat_minor": 2
}
