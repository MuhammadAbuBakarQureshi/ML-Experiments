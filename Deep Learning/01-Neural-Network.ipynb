{
 "cells": [
  {
   "cell_type": "code",
   "execution_count": 3,
   "id": "0c516b00",
   "metadata": {},
   "outputs": [],
   "source": [
    "import numpy as np\n",
    "import matplotlib.pyplot as pl"
   ]
  },
  {
   "cell_type": "code",
   "execution_count": 4,
   "id": "28bc81f7",
   "metadata": {},
   "outputs": [],
   "source": [
    "def sigmoid(z):\n",
    "\n",
    "    exp = np.exp(-z);\n",
    "\n",
    "    g_z = 1 / (1 + exp);\n",
    "\n",
    "    return g_z;"
   ]
  },
  {
   "cell_type": "code",
   "execution_count": 7,
   "id": "4f460494",
   "metadata": {},
   "outputs": [],
   "source": [
    "def dense(a_in, W, b):\n",
    "\n",
    "    units = W.shape[1];\n",
    "    a_out = np.zeros(units);\n",
    "\n",
    "    for j in range(units):\n",
    "        \n",
    "        w = W[:, j];\n",
    "        z = np.dot(w, a_in) + b[j];\n",
    "        a_out[j] = sigmoid(z);\n",
    "    \n",
    "    return a_out;"
   ]
  },
  {
   "cell_type": "code",
   "execution_count": 8,
   "id": "686abcc5",
   "metadata": {},
   "outputs": [],
   "source": [
    "def sequential(x, W1, b1, W2, b2):\n",
    "\n",
    "    a1 = dense(x, W1, b1);\n",
    "    a2 = dense(x, W2, b2);\n",
    "\n",
    "    return a2;"
   ]
  },
  {
   "cell_type": "code",
   "execution_count": 9,
   "id": "e1af92f8",
   "metadata": {},
   "outputs": [],
   "source": [
    "W1_tmp = np.array( [[-8.93,  0.29, 12.9 ], [-0.1,  -7.32, 10.81]] )\n",
    "b1_tmp = np.array( [-9.82, -9.28,  0.96] )\n",
    "W2_tmp = np.array( [[-31.18], [-27.59], [-32.56]] )\n",
    "b2_tmp = np.array( [15.41] )"
   ]
  },
  {
   "cell_type": "code",
   "execution_count": 13,
   "id": "fb557c19",
   "metadata": {},
   "outputs": [],
   "source": [
    "def predict(X, W1, b1, W2, b2):\n",
    "\n",
    "    m = X.shape[0];\n",
    "    prediction = np.zeros((m, 1));\n",
    "\n",
    "    for i in range(m):\n",
    "\n",
    "        prediction[i, 0] = sequential(X[i], W1, b1, W2, b2);\n",
    "    \n",
    "    return prediction;"
   ]
  },
  {
   "cell_type": "code",
   "execution_count": null,
   "id": "59292d15",
   "metadata": {},
   "outputs": [],
   "source": [
    "## Applying threshold\n",
    "yhat = np.zeros(prediction);\n"
   ]
  },
  {
   "cell_type": "code",
   "execution_count": null,
   "id": "e7c9f0d6",
   "metadata": {},
   "outputs": [],
   "source": []
  }
 ],
 "metadata": {
  "kernelspec": {
   "display_name": "Python 3",
   "language": "python",
   "name": "python3"
  },
  "language_info": {
   "codemirror_mode": {
    "name": "ipython",
    "version": 3
   },
   "file_extension": ".py",
   "mimetype": "text/x-python",
   "name": "python",
   "nbconvert_exporter": "python",
   "pygments_lexer": "ipython3",
   "version": "3.12.10"
  }
 },
 "nbformat": 4,
 "nbformat_minor": 5
}
