{
 "cells": [
  {
   "cell_type": "code",
   "execution_count": 1,
   "id": "0706e38a",
   "metadata": {},
   "outputs": [],
   "source": [
    "import numpy as np"
   ]
  },
  {
   "cell_type": "code",
   "execution_count": 8,
   "id": "33a28f52",
   "metadata": {},
   "outputs": [],
   "source": [
    "def fwb(w, b, X):\n",
    "\n",
    "    return np.multiply(w, X) + b;"
   ]
  },
  {
   "cell_type": "code",
   "execution_count": null,
   "id": "ef81d714",
   "metadata": {},
   "outputs": [],
   "source": []
  }
 ],
 "metadata": {
  "kernelspec": {
   "display_name": "Python 3",
   "language": "python",
   "name": "python3"
  },
  "language_info": {
   "codemirror_mode": {
    "name": "ipython",
    "version": 3
   },
   "file_extension": ".py",
   "mimetype": "text/x-python",
   "name": "python",
   "nbconvert_exporter": "python",
   "pygments_lexer": "ipython3",
   "version": "3.11.9"
  }
 },
 "nbformat": 4,
 "nbformat_minor": 5
}
