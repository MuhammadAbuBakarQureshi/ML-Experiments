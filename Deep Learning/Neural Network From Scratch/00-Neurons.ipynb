{
 "cells": [
  {
   "cell_type": "code",
   "execution_count": 14,
   "id": "0706e38a",
   "metadata": {},
   "outputs": [],
   "source": [
    "import numpy as np"
   ]
  },
  {
   "cell_type": "code",
   "execution_count": 40,
   "id": "33a28f52",
   "metadata": {},
   "outputs": [],
   "source": [
    "def fwb(W, B, X):\n",
    "\n",
    "    return np.dot(W, X) + B"
   ]
  },
  {
   "cell_type": "code",
   "execution_count": 66,
   "id": "c49dc706",
   "metadata": {},
   "outputs": [],
   "source": [
    "def sigmoid(z):\n",
    "    \n",
    "    exp = np.exp(-z)\n",
    "    g = 1 / (1 + exp)\n",
    "    return g"
   ]
  },
  {
   "cell_type": "code",
   "execution_count": 67,
   "id": "744d97e0",
   "metadata": {},
   "outputs": [],
   "source": [
    "def compute_layer(W, B, X):\n",
    "\n",
    "    z = fwb(W, B, X)\n",
    "    return sigmoid(z)"
   ]
  },
  {
   "cell_type": "code",
   "execution_count": 110,
   "id": "61fb6f6a",
   "metadata": {},
   "outputs": [],
   "source": [
    "def cost_function(y_pred, y):\n",
    "\n",
    "    m = y.shape[0]\n",
    "    cost = -np.sum( y * np.log(y_pred) + (1 - y) * np.log(1 - y_pred)) / m\n",
    "    return cost"
   ]
  },
  {
   "cell_type": "code",
   "execution_count": 126,
   "id": "8056837c",
   "metadata": {},
   "outputs": [],
   "source": [
    "def compute_gradient_descent_derivative(W, B, X, y):\n",
    "\n",
    "    m = len(X)\n",
    "\n",
    "    g_z = sigmoid(W, B, X)\n",
    "\n",
    "    dw = ( g_z - y ) * X\n",
    "    dw = np.sum(dw) / m\n",
    "\n",
    "    db = ( g_z - y)\n",
    "    db = np.sum(db) / m\n",
    "\n",
    "    return dw, db"
   ]
  },
  {
   "cell_type": "code",
   "execution_count": 127,
   "id": "5e9d55c6",
   "metadata": {},
   "outputs": [],
   "source": [
    "def compute_graient_descnet(W, B, X, y, alpha):\n",
    "\n",
    "    dw, db = compute_gradient_descent_derivative(W, B, X, y)\n",
    "\n",
    "    W -= ( alpha * dw )\n",
    "\n",
    "    B -= ( alpha * db )\n",
    "\n",
    "    return W, B"
   ]
  },
  {
   "cell_type": "code",
   "execution_count": 122,
   "id": "ef81d714",
   "metadata": {},
   "outputs": [],
   "source": [
    "X = np.array([0, 1])\n",
    "y = np.array([1])\n",
    "\n",
    "W1 = np.array([\n",
    "\n",
    "    [10, 10],\n",
    "    [10, 10],\n",
    "])\n",
    "\n",
    "B1 = np.array([-5, -15])\n",
    "\n",
    "W2 = np.array([\n",
    "    [10, -10]\n",
    "])\n",
    "\n",
    "B2 = np.array([-5])"
   ]
  },
  {
   "cell_type": "code",
   "execution_count": 123,
   "id": "2cdd98a8",
   "metadata": {},
   "outputs": [
    {
     "data": {
      "text/plain": [
       "(array([0.99235586]), np.float64(0.0076735019828447475))"
      ]
     },
     "execution_count": 123,
     "metadata": {},
     "output_type": "execute_result"
    }
   ],
   "source": [
    "a1 = compute_layer(W1, B1, X)\n",
    "a2 = compute_layer(W2, B2, a1)\n",
    "a2, cost_function(a2, y)"
   ]
  },
  {
   "cell_type": "code",
   "execution_count": null,
   "id": "9060addb",
   "metadata": {},
   "outputs": [],
   "source": [
    "X = [1, 2, 3, 2.5]\n",
    "\n",
    "W = np.array([\n",
    "\n",
    "    [0.2, 0.8, -0.5, 1.0],\n",
    "    [0.5, -0.91, 0.26, -0.5],\n",
    "    [-0.26, -0.27, 0.17, 0.87],\n",
    "])\n",
    "\n",
    "B = [2, 3, 0.5]"
   ]
  },
  {
   "cell_type": "code",
   "execution_count": null,
   "id": "2553e6d9",
   "metadata": {},
   "outputs": [],
   "source": []
  },
  {
   "cell_type": "code",
   "execution_count": null,
   "id": "cdfad1d1",
   "metadata": {},
   "outputs": [],
   "source": []
  }
 ],
 "metadata": {
  "kernelspec": {
   "display_name": "Python 3",
   "language": "python",
   "name": "python3"
  },
  "language_info": {
   "codemirror_mode": {
    "name": "ipython",
    "version": 3
   },
   "file_extension": ".py",
   "mimetype": "text/x-python",
   "name": "python",
   "nbconvert_exporter": "python",
   "pygments_lexer": "ipython3",
   "version": "3.11.9"
  }
 },
 "nbformat": 4,
 "nbformat_minor": 5
}
