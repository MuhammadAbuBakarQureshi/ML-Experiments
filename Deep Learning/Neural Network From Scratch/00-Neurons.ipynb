{
 "cells": [
  {
   "cell_type": "code",
   "execution_count": 128,
   "id": "0706e38a",
   "metadata": {},
   "outputs": [],
   "source": [
    "import numpy as np"
   ]
  },
  {
   "cell_type": "code",
   "execution_count": 129,
   "id": "33a28f52",
   "metadata": {},
   "outputs": [],
   "source": [
    "def fwb(W, B, X):\n",
    "\n",
    "    return np.dot(W, X) + B"
   ]
  },
  {
   "cell_type": "code",
   "execution_count": 130,
   "id": "c49dc706",
   "metadata": {},
   "outputs": [],
   "source": [
    "def sigmoid(z):\n",
    "    \n",
    "    exp = np.exp(-z)\n",
    "    g = 1 / (1 + exp)\n",
    "    return g"
   ]
  },
  {
   "cell_type": "code",
   "execution_count": 170,
   "id": "744d97e0",
   "metadata": {},
   "outputs": [],
   "source": [
    "def compute_layer(W, B, X):\n",
    "\n",
    "    z = fwb(W, B, X)\n",
    "    return sigmoid(z), z"
   ]
  },
  {
   "cell_type": "code",
   "execution_count": 141,
   "id": "61fb6f6a",
   "metadata": {},
   "outputs": [],
   "source": [
    "def cost_function(y_pred, y):\n",
    "\n",
    "    m = y.shape[0]\n",
    "    cost = -np.sum( y * np.log(y_pred) + (1 - y) * np.log(1 - y_pred)) / m\n",
    "    return cost"
   ]
  },
  {
   "cell_type": "code",
   "execution_count": null,
   "id": "26578b07",
   "metadata": {},
   "outputs": [],
   "source": [
    "def compute_derivatives_for_layer_1(a, y):\n",
    "\n",
    "    cost = cost_function(a, y)\n",
    "    "
   ]
  },
  {
   "cell_type": "code",
   "execution_count": null,
   "id": "8056837c",
   "metadata": {},
   "outputs": [],
   "source": [
    "def compute_gradient_descent_derivative(W, B, X, y):\n",
    "\n",
    "    m = len(X)\n",
    "\n",
    "    dj_dw1 = \n",
    "\n",
    "    g_z = sigmoid(W, B, X)\n",
    "\n",
    "    dw = ( g_z - y ) * X\n",
    "    dw = np.sum(dw) / m\n",
    "\n",
    "    db = ( g_z - y)\n",
    "    db = np.sum(db) / m\n",
    "\n",
    "    return dw, db"
   ]
  },
  {
   "cell_type": "code",
   "execution_count": 134,
   "id": "5e9d55c6",
   "metadata": {},
   "outputs": [],
   "source": [
    "def compute_graient_descnet(W, B, X, y, alpha):\n",
    "\n",
    "    dw, db = compute_gradient_descent_derivative(W, B, X, y)\n",
    "\n",
    "    W -= ( alpha * dw )\n",
    "\n",
    "    B -= ( alpha * db )\n",
    "\n",
    "    return W, B"
   ]
  },
  {
   "cell_type": "code",
   "execution_count": 156,
   "id": "ef81d714",
   "metadata": {},
   "outputs": [],
   "source": [
    "X = np.array([0, 1])\n",
    "y = np.array([1])\n",
    "\n",
    "W1 = np.array([\n",
    "\n",
    "    [10, 10],\n",
    "    [10, 10],\n",
    "])\n",
    "\n",
    "B1 = np.array([-5, -15])\n",
    "\n",
    "W2 = np.array([\n",
    "    [10, -10]\n",
    "])\n",
    "\n",
    "B2 = np.array([-5])\n",
    "\n",
    "alpha = 0.01"
   ]
  },
  {
   "cell_type": "code",
   "execution_count": 171,
   "id": "b2362c26",
   "metadata": {},
   "outputs": [
    {
     "data": {
      "text/plain": [
       "array([0.99235586])"
      ]
     },
     "execution_count": 171,
     "metadata": {},
     "output_type": "execute_result"
    }
   ],
   "source": [
    "a1, z1 = compute_layer(W1, B1, X)\n",
    "a2, z2 = compute_layer(W2, B2, a1)\n",
    "a2"
   ]
  },
  {
   "cell_type": "code",
   "execution_count": 145,
   "id": "9060addb",
   "metadata": {},
   "outputs": [],
   "source": [
    "X = [1, 2, 3, 2.5]\n",
    "\n",
    "W = np.array([\n",
    "\n",
    "    [0.2, 0.8, -0.5, 1.0],\n",
    "    [0.5, -0.91, 0.26, -0.5],\n",
    "    [-0.26, -0.27, 0.17, 0.87],\n",
    "])\n",
    "\n",
    "B = [2, 3, 0.5]"
   ]
  },
  {
   "cell_type": "code",
   "execution_count": null,
   "id": "2553e6d9",
   "metadata": {},
   "outputs": [
    {
     "ename": "SyntaxError",
     "evalue": "cannot assign to expression here. Maybe you meant '==' instead of '='? (124237325.py, line 1)",
     "output_type": "error",
     "traceback": [
      "  \u001b[36mCell\u001b[39m\u001b[36m \u001b[39m\u001b[32mIn[148]\u001b[39m\u001b[32m, line 1\u001b[39m\n\u001b[31m    \u001b[39m\u001b[31mdj/dw = 1\u001b[39m\n    ^\n\u001b[31mSyntaxError\u001b[39m\u001b[31m:\u001b[39m cannot assign to expression here. Maybe you meant '==' instead of '='?\n"
     ]
    }
   ],
   "source": []
  },
  {
   "cell_type": "code",
   "execution_count": null,
   "id": "cdfad1d1",
   "metadata": {},
   "outputs": [],
   "source": []
  }
 ],
 "metadata": {
  "kernelspec": {
   "display_name": "Python 3",
   "language": "python",
   "name": "python3"
  },
  "language_info": {
   "codemirror_mode": {
    "name": "ipython",
    "version": 3
   },
   "file_extension": ".py",
   "mimetype": "text/x-python",
   "name": "python",
   "nbconvert_exporter": "python",
   "pygments_lexer": "ipython3",
   "version": "3.11.9"
  }
 },
 "nbformat": 4,
 "nbformat_minor": 5
}
