{
 "cells": [
  {
   "cell_type": "code",
   "execution_count": 14,
   "id": "0706e38a",
   "metadata": {},
   "outputs": [],
   "source": [
    "import numpy as np"
   ]
  },
  {
   "cell_type": "code",
   "execution_count": 21,
   "id": "33a28f52",
   "metadata": {},
   "outputs": [],
   "source": [
    "def fwb(w, b, X):\n",
    "\n",
    "    return np.dot(X, w) + b"
   ]
  },
  {
   "cell_type": "code",
   "execution_count": 23,
   "id": "c49dc706",
   "metadata": {},
   "outputs": [],
   "source": [
    "def g(z):\n",
    "    \n",
    "    exp = np.exp(-z)\n",
    "    g = 1 / (1 + exp)\n",
    "    return g"
   ]
  },
  {
   "cell_type": "code",
   "execution_count": 31,
   "id": "ef81d714",
   "metadata": {},
   "outputs": [],
   "source": [
    "X = [1, 2, 3, 2.5]\n",
    "\n",
    "w1 = [0.2, 0.8, -0.5, 1.0]\n",
    "w2 = [0.5, -0.91, 0.26, -0.5]\n",
    "w3 = [-0.26, -0.27, 0.17, 0.87]\n",
    "\n",
    "W = np.array([\n",
    "\n",
    "    [0.2, 0.8, -0.5, 1.0],\n",
    "    [0.5, -0.91, 0.26, -0.5],\n",
    "    [-0.26, -0.27, 0.17, 0.87],\n",
    "])\n",
    "\n",
    "B = [2, 3, 0.5]\n",
    "\n",
    "b1 = 2\n",
    "b2 = 3\n",
    "b3 = 0.5"
   ]
  },
  {
   "cell_type": "code",
   "execution_count": 28,
   "id": "578094b7",
   "metadata": {},
   "outputs": [
    {
     "data": {
      "text/plain": [
       "[np.float64(4.8), np.float64(1.21), np.float64(2.385)]"
      ]
     },
     "execution_count": 28,
     "metadata": {},
     "output_type": "execute_result"
    }
   ],
   "source": [
    "output = [fwb(w1, b1, X), fwb(w2, b2, X), fwb(w3, b3, X)]\n",
    "\n",
    "output\n",
    "\n",
    "# np.float64(4.8), np.float64(1.21), np.float64(2.385)]"
   ]
  },
  {
   "cell_type": "code",
   "execution_count": 32,
   "id": "669fb837",
   "metadata": {},
   "outputs": [
    {
     "name": "stdout",
     "output_type": "stream",
     "text": [
      "[4.8   1.21  2.385]\n"
     ]
    }
   ],
   "source": [
    "output = np.zeros(3)\n",
    "\n",
    "for i in range(0, 3):\n",
    "\n",
    "    output[i] = fwb(W[i], B[i], X)\n",
    "\n",
    "print(output)"
   ]
  },
  {
   "cell_type": "code",
   "execution_count": null,
   "id": "9060addb",
   "metadata": {},
   "outputs": [],
   "source": [
    "X = [1, 2, 3, 2.5]\n",
    "\n",
    "W = np.array([\n",
    "\n",
    "    [0.2, 0.8, -0.5, 1.0],\n",
    "    [0.5, -0.91, 0.26, -0.5],\n",
    "    [-0.26, -0.27, 0.17, 0.87],\n",
    "])\n",
    "\n",
    "B = [2, 3, 0.5]"
   ]
  }
 ],
 "metadata": {
  "kernelspec": {
   "display_name": "Python 3",
   "language": "python",
   "name": "python3"
  },
  "language_info": {
   "codemirror_mode": {
    "name": "ipython",
    "version": 3
   },
   "file_extension": ".py",
   "mimetype": "text/x-python",
   "name": "python",
   "nbconvert_exporter": "python",
   "pygments_lexer": "ipython3",
   "version": "3.11.9"
  }
 },
 "nbformat": 4,
 "nbformat_minor": 5
}
